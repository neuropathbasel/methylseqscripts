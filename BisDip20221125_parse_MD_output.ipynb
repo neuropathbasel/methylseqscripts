{
 "cells": [
  {
   "cell_type": "markdown",
   "id": "77cee0e4",
   "metadata": {
    "ExecuteTime": {
     "end_time": "2022-05-17T13:16:14.760933Z",
     "start_time": "2022-05-17T13:16:14.759016Z"
    }
   },
   "source": [
    "# ReadMe"
   ]
  },
  {
   "cell_type": "markdown",
   "id": "adaf85c5",
   "metadata": {},
   "source": [
    "This Jupyter Notebook is converting Methyldatel Output to NanoDiP bin format.\n",
    "\n",
    "Please Note: The Jupyter Notebook ist provided as it is.\n",
    "\n",
    "Please adjust Path definitions in the configuration setting to your needs.\n",
    "\n",
    "You have to define sample IDs in the sampleIDlist as well as  ExportFileName to your needs"
   ]
  },
  {
   "cell_type": "markdown",
   "id": "9a05a39c",
   "metadata": {},
   "source": [
    "# configuration"
   ]
  },
  {
   "cell_type": "code",
   "execution_count": null,
   "id": "490c8d62",
   "metadata": {
    "ExecuteTime": {
     "end_time": "2022-05-17T13:16:15.919903Z",
     "start_time": "2022-05-17T13:16:15.916817Z"
    }
   },
   "outputs": [],
   "source": [
    "#Bin index\n",
    "binIndex=\"/applications/reference_data/betaEPIC450Kmix_bin/index.csv\"\n",
    "\n",
    "#Path to your directory containing the Outputfile of MehtylDackel\n",
    "MethDpath =\"/media/minknow/16TB_3/Twist/2022_10_06_TrimGalore_BitmapperBS_samtools_MD/\"\n",
    "\n",
    "SampleIDlist=[\"B2021_9857\", \"B2021_9858\", \"B2021_11239\",  \"B2021_23956\", \"B2021_24089\", \"B2021_28670\", \"B2021_22205_2\", \"LnB_con\"]\n",
    "\n",
    "#Illumina annotation\n",
    "ilmncgmapfile=\"/applications/reference_data/microarray/hg19_HumanMethylation450_15017482_v1-2_cgmap.tsv\" # Illumina probe names of the 450K \n",
    "\n",
    "#path of directory to which bins are to be written\n",
    "BinDir=\"/media/minknow/16TB_3/Twist/2022_11_25_code_test\""
   ]
  },
  {
   "cell_type": "markdown",
   "id": "a8be3d4d",
   "metadata": {},
   "source": [
    "# read in array annotation into two dictionaries"
   ]
  },
  {
   "cell_type": "code",
   "execution_count": null,
   "id": "7bc301d4",
   "metadata": {
    "ExecuteTime": {
     "end_time": "2022-05-17T13:16:17.155578Z",
     "start_time": "2022-05-17T13:16:17.152382Z"
    },
    "code_folding": []
   },
   "outputs": [],
   "source": [
    "# read ilmncgmap into pandas dataframe and convert it to two dictionaries \n",
    "import pandas\n",
    "def arrayAnnotation():\n",
    "    ilmncgmap=pandas.read_csv(ilmncgmapfile, delimiter='\\t', header=None, index_col=0)\n",
    "    #ilmncgmap\n",
    "    ilmncgmap.columns = ['chr','strand','pos']\n",
    "    ilmncgmap[\"seqpos\"]=ilmncgmap[\"pos\"]+1\n",
    "    ilmncgmap=ilmncgmap.assign(chrompos=ilmncgmap.chr.map(str) + \":\" + ilmncgmap.seqpos.map(str))\n",
    "    ilmncgdict_cg=ilmncgmap['chrompos'].to_dict()\n",
    "    ilmncgdict={v: k for k, v in ilmncgdict_cg.items()} # reverse dictionary\n",
    "    ilmncgdict\n",
    "    del(ilmncgmap)# remove df from memory\n",
    "    return(ilmncgdict_cg,ilmncgdict)"
   ]
  },
  {
   "cell_type": "markdown",
   "id": "9066d5f5",
   "metadata": {},
   "source": [
    "# read in array index"
   ]
  },
  {
   "cell_type": "code",
   "execution_count": null,
   "id": "7917e41b",
   "metadata": {
    "code_folding": []
   },
   "outputs": [],
   "source": [
    "import numpy\n",
    "def ReadInArrayIndex():\n",
    "    indexFile=open(binIndex, \"r\") # load CpG site index file (contains index for methylation float binary data)\n",
    "    indexCol=indexFile.read().split(\"\\n\")# returns a list with an empty entry for the last element\n",
    "    indexCol=list(filter(None, indexCol)) #remove empty list elements ref: https://stackoverflow.com/questions/3845423/remove-empty-strings-from-a-list-of-strings post 21\n",
    "    indexFile.close()\n",
    "    return(indexCol)"
   ]
  },
  {
   "cell_type": "markdown",
   "id": "f060ad77",
   "metadata": {},
   "source": [
    "# parse MethD bedgraph/BitmapperBS"
   ]
  },
  {
   "cell_type": "code",
   "execution_count": null,
   "id": "ac6e080f",
   "metadata": {
    "code_folding": []
   },
   "outputs": [],
   "source": [
    "import pandas\n",
    "import numpy\n",
    "\n",
    "def MethDanalysis(s, ilmncgdict):\n",
    "\n",
    "    MethD_out = MethDpath + s + \"_markdup_CpG.bedGraph\"# for filename generated in mfcore MD pipline\n",
    "\n",
    "    print(MethD_out)\n",
    "\n",
    "    MethD_Dict = dict()\n",
    "\n",
    "    with open(MethD_out, \"r\") as MethDFile:\n",
    " \n",
    "        next(MethDFile)#skip header in first line\n",
    "        for line in MethDFile:\n",
    "            line = line.strip() #remove tailing wihte spaces         \n",
    "            words=line.split()  # split line into list using any seperator\n",
    "\n",
    "            PosString = words[0] + \":\" + words[2]\n",
    "            if PosString in ilmncgdict:# use only those chromosomal positions that are in the ilmncgdict dictionary - i.e. described in the Illumina manifest\n",
    "                cg_string = ilmncgdict[PosString]\n",
    "                MethDbeta = int(words[3])/100 #devide the ration from Methyldackel by 100 to work on the same scale as the array and Bismark evaluation\n",
    "                EventCount = int(words[4]) + int(words[5])#How oftern this site was covered in the Methyldackeloutput file\n",
    "                MethD_Dict[cg_string] = [MethDbeta , EventCount]\n",
    "\n",
    "\n",
    "    MethDFile.close()\n",
    "    \n",
    "    \n",
    "    MethD_Dict\n",
    "        \n",
    "    MethD_DF=pandas.DataFrame.from_dict(MethD_Dict, orient='index')\n",
    "    MethD_DF.columns=[\"MethDbeta\", \"MethD_EventCount\"]\n",
    "    MethD_DF[\"lgMD_EventCount\"] = numpy.log10(MethD_DF[\"MethD_EventCount\"])\n",
    "    MethD_DF\n",
    "    nrowMethD_DF=len(MethD_DF.index)\n",
    "    return( MethD_Dict, MethD_DF, nrowMethD_DF)"
   ]
  },
  {
   "cell_type": "markdown",
   "id": "9613d2ff",
   "metadata": {},
   "source": [
    "# Creation of bin files"
   ]
  },
  {
   "cell_type": "code",
   "execution_count": null,
   "id": "f2896d37",
   "metadata": {},
   "outputs": [],
   "source": [
    "import pandas\n",
    "import numpy\n",
    "def ConvertToBin(SampleID,SampleBetaDF_i):\n",
    "    numarray=numpy.array(SampleBetaDF_i['Beta'])\n",
    "    #ExportFileName=SampleID+\"_BitmapperBS20220926_all_reads.bin\"\n",
    "    ExportFileName=SampleID+\"_nfcore_MD_20220925_all_reads.bin\"\n",
    "    print(\"ExportFileName:\", ExportFileName)\n",
    "    BinFile=BinDir+\"/\"+ ExportFileName\n",
    "    print(\"BinFile:\", BinFile)\n",
    "    numpy.asarray(numarray, dtype=float).tofile(BinFile)\n",
    "    "
   ]
  },
  {
   "cell_type": "markdown",
   "id": "2858818a",
   "metadata": {},
   "source": [
    "# main() "
   ]
  },
  {
   "cell_type": "code",
   "execution_count": null,
   "id": "bace5b78",
   "metadata": {
    "ExecuteTime": {
     "end_time": "2022-05-17T13:32:46.926088Z",
     "start_time": "2022-05-17T13:28:53.205662Z"
    },
    "scrolled": true
   },
   "outputs": [],
   "source": [
    "import pandas as pd\n",
    "\n",
    "def main():\n",
    "    ilmncgdict_cg, ilmncgdict = arrayAnnotation() #derive array annotation in two dictionaries\n",
    "    ArrayIndex=ReadInArrayIndex()\n",
    "    print(len(ArrayIndex))\n",
    "    \n",
    "   \n",
    "    for sampleID in sampleIDlist:\n",
    "        \n",
    "        print(\"sampleID:\", sampleID)\n",
    "        SampleBetaDF=pd.DataFrame()\n",
    "        SampleBetaDF.index=ArrayIndex\n",
    "        \n",
    "        MethD_Dict, MethDdF, nrowMethD_DF=MethDanalysis(sampleID, ilmncgdict)\n",
    "            \n",
    "        for cg in ArrayIndex:\n",
    "            \n",
    "            #test if all cg defined in the array are described in the sequening experiment\n",
    "            #assign to cgs not covered in the seuqencing experiment a beta value of 0.51\n",
    "            if cg in MethD_Dict.keys():\n",
    "\n",
    "                beta=MethD_Dict[cg][0]\n",
    "                \n",
    "            if cg not in MethD_Dict.keys():\n",
    "                beta=0.49\n",
    "                \n",
    "            SampleBetaDF.loc[cg,\"Beta\"]=beta    \n",
    "            \n",
    "\n",
    "        print(\"SampleBeta:\\n\", SampleBetaDF)\n",
    "    \n",
    "    #convert Beta colum to  bin format\n",
    "        ConvertToBin(sampleID,SampleBetaDF)\n",
    "    \n",
    "\n",
    "    \n",
    "if __name__ == '__main__':\n",
    "    main()"
   ]
  },
  {
   "cell_type": "code",
   "execution_count": null,
   "id": "64306f88",
   "metadata": {},
   "outputs": [],
   "source": []
  }
 ],
 "metadata": {
  "kernelspec": {
   "display_name": "Python 3 (ipykernel)",
   "language": "python",
   "name": "python3"
  },
  "language_info": {
   "codemirror_mode": {
    "name": "ipython",
    "version": 3
   },
   "file_extension": ".py",
   "mimetype": "text/x-python",
   "name": "python",
   "nbconvert_exporter": "python",
   "pygments_lexer": "ipython3",
   "version": "3.7.5"
  },
  "toc": {
   "base_numbering": 1,
   "nav_menu": {},
   "number_sections": true,
   "sideBar": false,
   "skip_h1_title": false,
   "title_cell": "Table of Contents",
   "title_sidebar": "Contents",
   "toc_cell": false,
   "toc_position": {
    "height": "696px",
    "left": "67px",
    "top": "111.125px",
    "width": "179px"
   },
   "toc_section_display": true,
   "toc_window_display": true
  },
  "varInspector": {
   "cols": {
    "lenName": 16,
    "lenType": 16,
    "lenVar": 40
   },
   "kernels_config": {
    "python": {
     "delete_cmd_postfix": "",
     "delete_cmd_prefix": "del ",
     "library": "var_list.py",
     "varRefreshCmd": "print(var_dic_list())"
    },
    "r": {
     "delete_cmd_postfix": ") ",
     "delete_cmd_prefix": "rm(",
     "library": "var_list.r",
     "varRefreshCmd": "cat(var_dic_list()) "
    }
   },
   "oldHeight": 455.844,
   "position": {
    "height": "40px",
    "left": "1321px",
    "right": "20px",
    "top": "14px",
    "width": "349px"
   },
   "types_to_exclude": [
    "module",
    "function",
    "builtin_function_or_method",
    "instance",
    "_Feature"
   ],
   "varInspector_section_display": "none",
   "window_display": false
  }
 },
 "nbformat": 4,
 "nbformat_minor": 5
}
